{
  "nbformat": 4,
  "nbformat_minor": 0,
  "metadata": {
    "colab": {
      "name": "time.ipynb",
      "provenance": []
    },
    "kernelspec": {
      "name": "python3",
      "display_name": "Python 3"
    },
    "language_info": {
      "name": "python"
    }
  },
  "cells": [
    {
      "cell_type": "code",
      "metadata": {
        "colab": {
          "base_uri": "https://localhost:8080/",
          "height": 37
        },
        "id": "ve_dIEEGeNef",
        "outputId": "7b0b769b-987e-44c2-da92-b3f387e4455c"
      },
      "source": [
        "from IPython.display import Image\n",
        "import pandas as pd\n",
        "import numpy as no\n",
        "Image(url='https://en.wikipedia.org/wiki/GIF')"
      ],
      "execution_count": 2,
      "outputs": [
        {
          "output_type": "execute_result",
          "data": {
            "text/html": [
              "<img src=\"https://en.wikipedia.org/wiki/GIF\"/>"
            ],
            "text/plain": [
              "<IPython.core.display.Image object>"
            ]
          },
          "metadata": {},
          "execution_count": 2
        }
      ]
    },
    {
      "cell_type": "code",
      "metadata": {
        "id": "6HHXnWIEelLA"
      },
      "source": [
        "import requests\n",
        "import lxml.html as lh\n",
        "\n",
        "gdelt_base_url = 'http://data.gdeltproject.org/events/'\n",
        "gdelt_gkg_url = 'http://api.gdeltproject.org/api/v1/gkg_geojson'\n",
        "# get the list of all the links on the gdelt file page\n",
        "page = requests.get(gdelt_base_url+'index.html')\n",
        "doc = lh.fromstring(page.content)\n",
        "link_list = doc.xpath(\"//*/ul/li/a/@href\")\n",
        "\n",
        "# separate out those links that begin with four digits \n",
        "file_list = [x for x in link_list if str.isdigit(x[0:4])]"
      ],
      "execution_count": 3,
      "outputs": []
    },
    {
      "cell_type": "code",
      "metadata": {
        "id": "_Yu_7K-efVVM"
      },
      "source": [
        "import requests\n",
        "import pandas as pd\n",
        "import numpy as np\n",
        "import re\n",
        "from dateutil.parser import parse"
      ],
      "execution_count": 5,
      "outputs": []
    },
    {
      "cell_type": "code",
      "metadata": {
        "id": "Y0jJ7twbo3v0"
      },
      "source": [
        ""
      ],
      "execution_count": null,
      "outputs": []
    },
    {
      "cell_type": "code",
      "metadata": {
        "id": "M09bDZd1faro"
      },
      "source": [
        "from dateutil.parser import parse\n",
        "import traceback,sys\n",
        "import pandas as pd\n",
        "import numpy as np\n",
        "import datetime\n",
        "import requests\n",
        "\n",
        "\n",
        "class gdeltSearch(object):\n",
        "    \"\"\"Placeholder string\"\"\"\n",
        "    \n",
        "    def __init__(self,\n",
        "                 gdelt2MasterUrl = 'http://data.gdeltproject.org/gdeltv2/masterfilelist.txt',\n",
        "                 gdelt1MasterUrl = 'http://data.gdeltproject.org/events/index.html',\n",
        "                 tblType = None,\n",
        "                 headers = None,\n",
        "                 masterdf = None,\n",
        "                 clean = None,\n",
        "                 queryTime = datetime.datetime.now().strftime('%m-%d-%Y %H:%M:%S')\n",
        "                 ):\n",
        "        self.gdelt2MasterUrl=gdelt2MasterUrl\n",
        "        self.gdelt1MasterUrl=gdelt1MasterUrl\n",
        "        self.clean = map(\n",
        "                    lambda x: x.split(' '),\n",
        "                    requests.get(self.gdelt2MasterUrl).content.split('\\n')\n",
        "                        )\n",
        "        del self.clean[-1]\n",
        "        self.masterdf = pd.DataFrame(self.clean)\n",
        "        self.masterdf.fillna('', inplace=True)\n",
        "        self.queryTime=queryTime"
      ],
      "execution_count": 6,
      "outputs": []
    },
    {
      "cell_type": "code",
      "metadata": {
        "id": "nuy59fs0jDjb"
      },
      "source": [
        "defaultDateEntry = \"\" # string\n",
        "stringDateEntry = \" 2016 09 18\" # string\n",
        "historicalDateEntry = \"2015 02 25\" #string\n",
        "errorDate = \"What in the heck\" # error string\n",
        "listOfdates = ['Sep 1 2016','2016 09 24'] # list, len 2\n",
        "moreThanTwo= ['Sept 20 2016','June 3 2011','January 1, 2013'] # list, len greater than 2d\n",
        "\n",
        "date = defaultDateEntry\n",
        "time = \"\""
      ],
      "execution_count": 22,
      "outputs": []
    },
    {
      "cell_type": "code",
      "metadata": {
        "colab": {
          "base_uri": "https://localhost:8080/",
          "height": 35
        },
        "id": "THvMNAfdjI47",
        "outputId": "95e1e136-8677-431e-b68b-8531af6fdcba"
      },
      "source": [
        "\n",
        "date"
      ],
      "execution_count": 23,
      "outputs": [
        {
          "output_type": "execute_result",
          "data": {
            "application/vnd.google.colaboratory.intrinsic+json": {
              "type": "string"
            },
            "text/plain": [
              "''"
            ]
          },
          "metadata": {},
          "execution_count": 23
        }
      ]
    },
    {
      "cell_type": "code",
      "metadata": {
        "id": "SKClTEK2jBo9"
      },
      "source": [
        "# table type = tblType\n",
        "import datetime\n",
        "import pandas as pd\n",
        "\n",
        "graph = 'gkg'\n",
        "events = 'events' # includes new GDELT 2.0 mentions table; merged on globaleventid\n",
        "\n",
        "tblType = events  # default to events db"
      ],
      "execution_count": 21,
      "outputs": []
    },
    {
      "cell_type": "code",
      "metadata": {
        "colab": {
          "base_uri": "https://localhost:8080/",
          "height": 35
        },
        "id": "lqElgNeFjTnI",
        "outputId": "0e527d76-af77-4487-e7f9-9a15b6319a55"
      },
      "source": [
        "\n",
        "datetime.datetime.now().strftime('%m-%d-%Y')"
      ],
      "execution_count": 25,
      "outputs": [
        {
          "output_type": "execute_result",
          "data": {
            "application/vnd.google.colaboratory.intrinsic+json": {
              "type": "string"
            },
            "text/plain": [
              "'10-12-2021'"
            ]
          },
          "metadata": {},
          "execution_count": 25
        }
      ]
    },
    {
      "cell_type": "code",
      "metadata": {
        "colab": {
          "base_uri": "https://localhost:8080/"
        },
        "id": "TDSZ1hQ2j4xy",
        "outputId": "9cec3ca4-850d-4c02-cd00-b1411a9edd85"
      },
      "source": [
        "np.arange('2021-10-11', '2021-10-16', dtype='datetime64[D]').tolist()"
      ],
      "execution_count": 28,
      "outputs": [
        {
          "output_type": "execute_result",
          "data": {
            "text/plain": [
              "[datetime.date(2021, 10, 11),\n",
              " datetime.date(2021, 10, 12),\n",
              " datetime.date(2021, 10, 13),\n",
              " datetime.date(2021, 10, 14),\n",
              " datetime.date(2021, 10, 15)]"
            ]
          },
          "metadata": {},
          "execution_count": 28
        }
      ]
    },
    {
      "cell_type": "code",
      "metadata": {
        "id": "w_VP8YJaj9ek"
      },
      "source": [
        "tester = np.append((np.arange('2021-10-11', '2021-10-16', dtype='datetime64[D]')).tolist(),datetime.datetime.now().date().today()).tolist()"
      ],
      "execution_count": 29,
      "outputs": []
    },
    {
      "cell_type": "code",
      "metadata": {
        "colab": {
          "base_uri": "https://localhost:8080/"
        },
        "id": "1SNnbkR-kFyl",
        "outputId": "8ad1d309-61ff-4369-9aa8-4b79b6937971"
      },
      "source": [
        "\n",
        "tester"
      ],
      "execution_count": 30,
      "outputs": [
        {
          "output_type": "execute_result",
          "data": {
            "text/plain": [
              "[datetime.date(2021, 10, 11),\n",
              " datetime.date(2021, 10, 12),\n",
              " datetime.date(2021, 10, 13),\n",
              " datetime.date(2021, 10, 14),\n",
              " datetime.date(2021, 10, 15),\n",
              " datetime.date(2021, 10, 12)]"
            ]
          },
          "metadata": {},
          "execution_count": 30
        }
      ]
    },
    {
      "cell_type": "code",
      "metadata": {
        "colab": {
          "base_uri": "https://localhost:8080/"
        },
        "id": "EgvBdFJmkIHc",
        "outputId": "bc9cb049-fc37-45c3-95c2-8e1783d7be3f"
      },
      "source": [
        "datetime.datetime.now().date().today() in tester"
      ],
      "execution_count": 31,
      "outputs": [
        {
          "output_type": "execute_result",
          "data": {
            "text/plain": [
              "True"
            ]
          },
          "metadata": {},
          "execution_count": 31
        }
      ]
    },
    {
      "cell_type": "code",
      "metadata": {
        "colab": {
          "base_uri": "https://localhost:8080/"
        },
        "id": "HOLk4SHZkLgG",
        "outputId": "74097da2-f0f7-414a-9d01-40c2b18f12f7"
      },
      "source": [
        "# numpy example of ranging the date\n",
        "np.arange('2021-08-01', '2021-09-16', dtype='datetime64[D]')"
      ],
      "execution_count": 32,
      "outputs": [
        {
          "output_type": "execute_result",
          "data": {
            "text/plain": [
              "array(['2021-08-01', '2021-08-02', '2021-08-03', '2021-08-04',\n",
              "       '2021-08-05', '2021-08-06', '2021-08-07', '2021-08-08',\n",
              "       '2021-08-09', '2021-08-10', '2021-08-11', '2021-08-12',\n",
              "       '2021-08-13', '2021-08-14', '2021-08-15', '2021-08-16',\n",
              "       '2021-08-17', '2021-08-18', '2021-08-19', '2021-08-20',\n",
              "       '2021-08-21', '2021-08-22', '2021-08-23', '2021-08-24',\n",
              "       '2021-08-25', '2021-08-26', '2021-08-27', '2021-08-28',\n",
              "       '2021-08-29', '2021-08-30', '2021-08-31', '2021-09-01',\n",
              "       '2021-09-02', '2021-09-03', '2021-09-04', '2021-09-05',\n",
              "       '2021-09-06', '2021-09-07', '2021-09-08', '2021-09-09',\n",
              "       '2021-09-10', '2021-09-11', '2021-09-12', '2021-09-13',\n",
              "       '2021-09-14', '2021-09-15'], dtype='datetime64[D]')"
            ]
          },
          "metadata": {},
          "execution_count": 32
        }
      ]
    },
    {
      "cell_type": "code",
      "metadata": {
        "id": "m4Npv1QSpsee"
      },
      "source": [
        "import io\n",
        "from io import StringIO\n",
        "import pandas as pd\n",
        "import requests\n",
        "import zipfile\n",
        "import re\n",
        "\n",
        "def downloadAndExtract(gdeltUrl):\n",
        "    \"\"\"Downloads and extracts GDELT zips without saving to disk\"\"\"\n",
        "    \n",
        "    response = requests.get(gdeltUrl, stream=True)\n",
        "    zipdata = StringIO()\n",
        "    zipdata.write(response.content)\n",
        "    gdelt_zipfile = zipfile.ZipFile(zipdata,'r')\n",
        "    name = re.search('(([\\d]{4,}).*)',gdelt_zipfile.namelist()[0]).group().replace('.zip',\"\")\n",
        "    data = gdelt_zipfile.read(name)\n",
        "    gdelt_zipfile.close()\n",
        "    del zipdata,gdelt_zipfile,name,response\n",
        "    return pd.read_csv(StringIO(data),delimiter='\\t',header=None)\n",
        "    \n",
        "\n",
        "def add_header(gdeltUrl):\n",
        "    \"\"\"Returns the header rows for the dataframe\"\"\"\n",
        "    \n",
        "    dbType = re.search(\n",
        "        '(mentions|export|gkg)',\n",
        "        gdeltUrl\n",
        "        ).group()\n",
        "    \n",
        "    if dbType == \"gkg\":\n",
        "        headers = gkgHeaders.tableId.tolist()\n",
        "    \n",
        "    elif dbType == \"mentions\":\n",
        "        headers = mentionsHeaders.tableId.tolist()\n",
        "        \n",
        "    elif dbType == \"export\":\n",
        "        headers = eventsDbHeaders.tableId.tolist()\n",
        "        \n",
        "    return header"
      ],
      "execution_count": 56,
      "outputs": []
    },
    {
      "cell_type": "code",
      "metadata": {
        "id": "IariALe4qMlx"
      },
      "source": [
        "target = 'http://data.gdeltproject.org/gdeltv2/20160924150000.export.CSV.zip'"
      ],
      "execution_count": 57,
      "outputs": []
    },
    {
      "cell_type": "code",
      "metadata": {
        "colab": {
          "base_uri": "https://localhost:8080/"
        },
        "id": "cyhBYbTAsESD",
        "outputId": "3ec9f619-d18b-4d60-f1bf-a04ad163bc60"
      },
      "source": [
        "import platform\n",
        "import multiprocessing\n",
        "import gdelt\n",
        "\n",
        "print (platform.platform())\n",
        "\n",
        "print (multiprocessing.cpu_count())"
      ],
      "execution_count": 76,
      "outputs": [
        {
          "output_type": "stream",
          "name": "stdout",
          "text": [
            "Linux-5.4.104+-x86_64-with-Ubuntu-18.04-bionic\n",
            "2\n"
          ]
        }
      ]
    },
    {
      "cell_type": "code",
      "metadata": {
        "id": "tAPZOtKlswYs"
      },
      "source": [
        "gd = gdelt.gdelt(version=2)"
      ],
      "execution_count": 77,
      "outputs": []
    },
    {
      "cell_type": "code",
      "metadata": {
        "colab": {
          "base_uri": "https://localhost:8080/"
        },
        "id": "TaiQG1J1szmP",
        "outputId": "466f8319-e8cf-4016-db7f-49e5eb8f8eaf"
      },
      "source": [
        "%time results = gd.Search(['2016 10 19','2016 10 22'],table='events',coverage=True)"
      ],
      "execution_count": 78,
      "outputs": [
        {
          "output_type": "stream",
          "name": "stdout",
          "text": [
            "CPU times: user 7.1 s, sys: 1.94 s, total: 9.04 s\n",
            "Wall time: 34.6 s\n"
          ]
        }
      ]
    },
    {
      "cell_type": "code",
      "metadata": {
        "colab": {
          "base_uri": "https://localhost:8080/"
        },
        "id": "VHeRr1cptV9d",
        "outputId": "d4d1142a-a845-4ac1-a800-96adf3823201"
      },
      "source": [
        "results.info()"
      ],
      "execution_count": 79,
      "outputs": [
        {
          "output_type": "stream",
          "name": "stdout",
          "text": [
            "<class 'pandas.core.frame.DataFrame'>\n",
            "RangeIndex: 875062 entries, 0 to 875061\n",
            "Data columns (total 62 columns):\n",
            " #   Column                 Non-Null Count   Dtype  \n",
            "---  ------                 --------------   -----  \n",
            " 0   GLOBALEVENTID          875062 non-null  int64  \n",
            " 1   SQLDATE                875062 non-null  int64  \n",
            " 2   MonthYear              875062 non-null  int64  \n",
            " 3   Year                   875062 non-null  int64  \n",
            " 4   FractionDate           875062 non-null  float64\n",
            " 5   Actor1Code             795372 non-null  object \n",
            " 6   Actor1Name             795376 non-null  object \n",
            " 7   Actor1CountryCode      497655 non-null  object \n",
            " 8   Actor1KnownGroupCode   12252 non-null   object \n",
            " 9   Actor1EthnicCode       5780 non-null    object \n",
            " 10  Actor1Religion1Code    13439 non-null   object \n",
            " 11  Actor1Religion2Code    3529 non-null    object \n",
            " 12  Actor1Type1Code        381709 non-null  object \n",
            " 13  Actor1Type2Code        27289 non-null   object \n",
            " 14  Actor1Type3Code        674 non-null     object \n",
            " 15  Actor2Code             637834 non-null  object \n",
            " 16  Actor2Name             637835 non-null  object \n",
            " 17  Actor2CountryCode      396044 non-null  object \n",
            " 18  Actor2KnownGroupCode   10342 non-null   object \n",
            " 19  Actor2EthnicCode       4950 non-null    object \n",
            " 20  Actor2Religion1Code    12687 non-null   object \n",
            " 21  Actor2Religion2Code    3110 non-null    object \n",
            " 22  Actor2Type1Code        307573 non-null  object \n",
            " 23  Actor2Type2Code        19698 non-null   object \n",
            " 24  Actor2Type3Code        471 non-null     object \n",
            " 25  IsRootEvent            875062 non-null  int64  \n",
            " 26  EventCode              875062 non-null  object \n",
            " 27  CAMEOCodeDescription   875062 non-null  object \n",
            " 28  EventBaseCode          875062 non-null  object \n",
            " 29  EventRootCode          875062 non-null  object \n",
            " 30  QuadClass              875062 non-null  int64  \n",
            " 31  GoldsteinScale         875051 non-null  float64\n",
            " 32  NumMentions            875062 non-null  int64  \n",
            " 33  NumSources             875062 non-null  int64  \n",
            " 34  NumArticles            875062 non-null  int64  \n",
            " 35  AvgTone                875062 non-null  float64\n",
            " 36  Actor1Geo_Type         875062 non-null  int64  \n",
            " 37  Actor1Geo_FullName     775810 non-null  object \n",
            " 38  Actor1Geo_CountryCode  776064 non-null  object \n",
            " 39  Actor1Geo_ADM1Code     776064 non-null  object \n",
            " 40  Actor1Geo_ADM2Code     474037 non-null  object \n",
            " 41  Actor1Geo_Lat          775810 non-null  float64\n",
            " 42  Actor1Geo_Long         775896 non-null  float64\n",
            " 43  Actor1Geo_FeatureID    776064 non-null  object \n",
            " 44  Actor2Geo_Type         875062 non-null  int64  \n",
            " 45  Actor2Geo_FullName     622384 non-null  object \n",
            " 46  Actor2Geo_CountryCode  622564 non-null  object \n",
            " 47  Actor2Geo_ADM1Code     622564 non-null  object \n",
            " 48  Actor2Geo_ADM2Code     330724 non-null  object \n",
            " 49  Actor2Geo_Lat          622384 non-null  float64\n",
            " 50  Actor2Geo_Long         622447 non-null  float64\n",
            " 51  Actor2Geo_FeatureID    622564 non-null  object \n",
            " 52  ActionGeo_Type         875062 non-null  int64  \n",
            " 53  ActionGeo_FullName     853617 non-null  object \n",
            " 54  ActionGeo_CountryCode  853905 non-null  object \n",
            " 55  ActionGeo_ADM1Code     853905 non-null  object \n",
            " 56  ActionGeo_ADM2Code     452205 non-null  object \n",
            " 57  ActionGeo_Lat          853617 non-null  float64\n",
            " 58  ActionGeo_Long         853723 non-null  float64\n",
            " 59  ActionGeo_FeatureID    853905 non-null  object \n",
            " 60  DATEADDED              875062 non-null  int64  \n",
            " 61  SOURCEURL              875062 non-null  object \n",
            "dtypes: float64(9), int64(13), object(40)\n",
            "memory usage: 413.9+ MB\n"
          ]
        }
      ]
    },
    {
      "cell_type": "code",
      "metadata": {
        "colab": {
          "base_uri": "https://localhost:8080/"
        },
        "id": "14qGH1CAspNL",
        "outputId": "f99e57ed-40e9-4dd6-d5e7-65985f66148d"
      },
      "source": [
        "pip install gdelt\n"
      ],
      "execution_count": 75,
      "outputs": [
        {
          "output_type": "stream",
          "name": "stdout",
          "text": [
            "Collecting gdelt\n",
            "  Downloading gdelt-0.1.10.6.1-py2.py3-none-any.whl (773 kB)\n",
            "\u001b[?25l\r\u001b[K     |▍                               | 10 kB 18.6 MB/s eta 0:00:01\r\u001b[K     |▉                               | 20 kB 24.2 MB/s eta 0:00:01\r\u001b[K     |█▎                              | 30 kB 12.6 MB/s eta 0:00:01\r\u001b[K     |█▊                              | 40 kB 9.4 MB/s eta 0:00:01\r\u001b[K     |██▏                             | 51 kB 5.3 MB/s eta 0:00:01\r\u001b[K     |██▌                             | 61 kB 5.1 MB/s eta 0:00:01\r\u001b[K     |███                             | 71 kB 5.5 MB/s eta 0:00:01\r\u001b[K     |███▍                            | 81 kB 6.2 MB/s eta 0:00:01\r\u001b[K     |███▉                            | 92 kB 4.7 MB/s eta 0:00:01\r\u001b[K     |████▎                           | 102 kB 5.1 MB/s eta 0:00:01\r\u001b[K     |████▋                           | 112 kB 5.1 MB/s eta 0:00:01\r\u001b[K     |█████                           | 122 kB 5.1 MB/s eta 0:00:01\r\u001b[K     |█████▌                          | 133 kB 5.1 MB/s eta 0:00:01\r\u001b[K     |██████                          | 143 kB 5.1 MB/s eta 0:00:01\r\u001b[K     |██████▍                         | 153 kB 5.1 MB/s eta 0:00:01\r\u001b[K     |██████▊                         | 163 kB 5.1 MB/s eta 0:00:01\r\u001b[K     |███████▏                        | 174 kB 5.1 MB/s eta 0:00:01\r\u001b[K     |███████▋                        | 184 kB 5.1 MB/s eta 0:00:01\r\u001b[K     |████████                        | 194 kB 5.1 MB/s eta 0:00:01\r\u001b[K     |████████▌                       | 204 kB 5.1 MB/s eta 0:00:01\r\u001b[K     |█████████                       | 215 kB 5.1 MB/s eta 0:00:01\r\u001b[K     |█████████▎                      | 225 kB 5.1 MB/s eta 0:00:01\r\u001b[K     |█████████▊                      | 235 kB 5.1 MB/s eta 0:00:01\r\u001b[K     |██████████▏                     | 245 kB 5.1 MB/s eta 0:00:01\r\u001b[K     |██████████▋                     | 256 kB 5.1 MB/s eta 0:00:01\r\u001b[K     |███████████                     | 266 kB 5.1 MB/s eta 0:00:01\r\u001b[K     |███████████▍                    | 276 kB 5.1 MB/s eta 0:00:01\r\u001b[K     |███████████▉                    | 286 kB 5.1 MB/s eta 0:00:01\r\u001b[K     |████████████▎                   | 296 kB 5.1 MB/s eta 0:00:01\r\u001b[K     |████████████▊                   | 307 kB 5.1 MB/s eta 0:00:01\r\u001b[K     |█████████████▏                  | 317 kB 5.1 MB/s eta 0:00:01\r\u001b[K     |█████████████▌                  | 327 kB 5.1 MB/s eta 0:00:01\r\u001b[K     |██████████████                  | 337 kB 5.1 MB/s eta 0:00:01\r\u001b[K     |██████████████▍                 | 348 kB 5.1 MB/s eta 0:00:01\r\u001b[K     |██████████████▉                 | 358 kB 5.1 MB/s eta 0:00:01\r\u001b[K     |███████████████▎                | 368 kB 5.1 MB/s eta 0:00:01\r\u001b[K     |███████████████▊                | 378 kB 5.1 MB/s eta 0:00:01\r\u001b[K     |████████████████                | 389 kB 5.1 MB/s eta 0:00:01\r\u001b[K     |████████████████▌               | 399 kB 5.1 MB/s eta 0:00:01\r\u001b[K     |█████████████████               | 409 kB 5.1 MB/s eta 0:00:01\r\u001b[K     |█████████████████▍              | 419 kB 5.1 MB/s eta 0:00:01\r\u001b[K     |█████████████████▉              | 430 kB 5.1 MB/s eta 0:00:01\r\u001b[K     |██████████████████▏             | 440 kB 5.1 MB/s eta 0:00:01\r\u001b[K     |██████████████████▋             | 450 kB 5.1 MB/s eta 0:00:01\r\u001b[K     |███████████████████             | 460 kB 5.1 MB/s eta 0:00:01\r\u001b[K     |███████████████████▌            | 471 kB 5.1 MB/s eta 0:00:01\r\u001b[K     |████████████████████            | 481 kB 5.1 MB/s eta 0:00:01\r\u001b[K     |████████████████████▎           | 491 kB 5.1 MB/s eta 0:00:01\r\u001b[K     |████████████████████▊           | 501 kB 5.1 MB/s eta 0:00:01\r\u001b[K     |█████████████████████▏          | 512 kB 5.1 MB/s eta 0:00:01\r\u001b[K     |█████████████████████▋          | 522 kB 5.1 MB/s eta 0:00:01\r\u001b[K     |██████████████████████          | 532 kB 5.1 MB/s eta 0:00:01\r\u001b[K     |██████████████████████▍         | 542 kB 5.1 MB/s eta 0:00:01\r\u001b[K     |██████████████████████▉         | 552 kB 5.1 MB/s eta 0:00:01\r\u001b[K     |███████████████████████▎        | 563 kB 5.1 MB/s eta 0:00:01\r\u001b[K     |███████████████████████▊        | 573 kB 5.1 MB/s eta 0:00:01\r\u001b[K     |████████████████████████▏       | 583 kB 5.1 MB/s eta 0:00:01\r\u001b[K     |████████████████████████▋       | 593 kB 5.1 MB/s eta 0:00:01\r\u001b[K     |█████████████████████████       | 604 kB 5.1 MB/s eta 0:00:01\r\u001b[K     |█████████████████████████▍      | 614 kB 5.1 MB/s eta 0:00:01\r\u001b[K     |█████████████████████████▉      | 624 kB 5.1 MB/s eta 0:00:01\r\u001b[K     |██████████████████████████▎     | 634 kB 5.1 MB/s eta 0:00:01\r\u001b[K     |██████████████████████████▊     | 645 kB 5.1 MB/s eta 0:00:01\r\u001b[K     |███████████████████████████     | 655 kB 5.1 MB/s eta 0:00:01\r\u001b[K     |███████████████████████████▌    | 665 kB 5.1 MB/s eta 0:00:01\r\u001b[K     |████████████████████████████    | 675 kB 5.1 MB/s eta 0:00:01\r\u001b[K     |████████████████████████████▍   | 686 kB 5.1 MB/s eta 0:00:01\r\u001b[K     |████████████████████████████▉   | 696 kB 5.1 MB/s eta 0:00:01\r\u001b[K     |█████████████████████████████▏  | 706 kB 5.1 MB/s eta 0:00:01\r\u001b[K     |█████████████████████████████▋  | 716 kB 5.1 MB/s eta 0:00:01\r\u001b[K     |██████████████████████████████  | 727 kB 5.1 MB/s eta 0:00:01\r\u001b[K     |██████████████████████████████▌ | 737 kB 5.1 MB/s eta 0:00:01\r\u001b[K     |███████████████████████████████ | 747 kB 5.1 MB/s eta 0:00:01\r\u001b[K     |███████████████████████████████▍| 757 kB 5.1 MB/s eta 0:00:01\r\u001b[K     |███████████████████████████████▊| 768 kB 5.1 MB/s eta 0:00:01\r\u001b[K     |████████████████████████████████| 773 kB 5.1 MB/s \n",
            "\u001b[33mWARNING: Discarding https://files.pythonhosted.org/packages/65/f9/a3d5111c8f17334b1752c32aedaab0d01ab4324bf26417bd41890d5b25d0/gdelt-0.1.10.6.1-py2.py3-none-any.whl#sha256=e69467f944c9eeab1648244fb58e9c4b6e073a5a0d16c3cdf8f99c0c8c290f6a (from https://pypi.org/simple/gdelt/). Requested gdelt from https://files.pythonhosted.org/packages/65/f9/a3d5111c8f17334b1752c32aedaab0d01ab4324bf26417bd41890d5b25d0/gdelt-0.1.10.6.1-py2.py3-none-any.whl#sha256=e69467f944c9eeab1648244fb58e9c4b6e073a5a0d16c3cdf8f99c0c8c290f6a has inconsistent version: filename has '0.1.10.6.1', but metadata has '0.1.10.6'\u001b[0m\n",
            "\u001b[?25h  Downloading gdelt-0.1.10.6.1.tar.gz (982 kB)\n",
            "\u001b[K     |████████████████████████████████| 982 kB 39.6 MB/s \n",
            "\u001b[33mWARNING: Discarding https://files.pythonhosted.org/packages/95/1f/c62e819f54c7a9d6cc74ab1924972c59121cd042dbac54da5ead2da9612d/gdelt-0.1.10.6.1.tar.gz#sha256=3da32cb33a2d490f1441b41c71cc2e006cabb074c245db31e5960c7eb4973316 (from https://pypi.org/simple/gdelt/). Command errored out with exit status 1: python setup.py egg_info Check the logs for full command output.\u001b[0m\n",
            "\u001b[?25h  Downloading gdelt-0.1.10.5.3-py2.py3-none-any.whl (761 kB)\n",
            "\u001b[K     |████████████████████████████████| 761 kB 31.7 MB/s \n",
            "\u001b[?25hRequirement already satisfied: numpy in /usr/local/lib/python3.7/dist-packages (from gdelt) (1.20.2)\n",
            "Requirement already satisfied: pandas>=0.20.3 in /usr/local/lib/python3.7/dist-packages (from gdelt) (1.1.5)\n",
            "Requirement already satisfied: requests in /usr/local/lib/python3.7/dist-packages (from gdelt) (2.25.1)\n",
            "Requirement already satisfied: python-dateutil in /usr/local/lib/python3.7/dist-packages (from gdelt) (2.8.2)\n",
            "Requirement already satisfied: pytz>=2017.2 in /usr/local/lib/python3.7/dist-packages (from pandas>=0.20.3->gdelt) (2018.9)\n",
            "Requirement already satisfied: six>=1.5 in /usr/local/lib/python3.7/dist-packages (from python-dateutil->gdelt) (1.15.0)\n",
            "Requirement already satisfied: urllib3<1.27,>=1.21.1 in /usr/local/lib/python3.7/dist-packages (from requests->gdelt) (1.24.3)\n",
            "Requirement already satisfied: chardet<5,>=3.0.2 in /usr/local/lib/python3.7/dist-packages (from requests->gdelt) (3.0.4)\n",
            "Requirement already satisfied: idna<3,>=2.5 in /usr/local/lib/python3.7/dist-packages (from requests->gdelt) (2.10)\n",
            "Requirement already satisfied: certifi>=2017.4.17 in /usr/local/lib/python3.7/dist-packages (from requests->gdelt) (2021.5.30)\n",
            "Installing collected packages: gdelt\n",
            "Successfully installed gdelt-0.1.10.5.3\n"
          ]
        }
      ]
    },
    {
      "cell_type": "code",
      "metadata": {
        "colab": {
          "base_uri": "https://localhost:8080/"
        },
        "id": "EhgEmimyrQa_",
        "outputId": "74932c12-2f5b-4eb9-ddc2-7660518880bf"
      },
      "source": [
        "pip install feather-format"
      ],
      "execution_count": 65,
      "outputs": [
        {
          "output_type": "stream",
          "name": "stdout",
          "text": [
            "Requirement already satisfied: feather-format in /usr/local/lib/python3.7/dist-packages (0.4.1)\n",
            "Requirement already satisfied: pyarrow>=0.4.0 in /usr/local/lib/python3.7/dist-packages (from feather-format) (3.0.0)\n",
            "Requirement already satisfied: numpy>=1.16.6 in /usr/local/lib/python3.7/dist-packages (from pyarrow>=0.4.0->feather-format) (1.20.2)\n"
          ]
        }
      ]
    },
    {
      "cell_type": "code",
      "metadata": {
        "colab": {
          "base_uri": "https://localhost:8080/",
          "height": 1000
        },
        "id": "jIO7Z-grrF91",
        "outputId": "923632bd-bd27-412f-9ec5-9181f6c7b4c9"
      },
      "source": [
        "pip install feather"
      ],
      "execution_count": 63,
      "outputs": [
        {
          "output_type": "stream",
          "name": "stdout",
          "text": [
            "Collecting feather\n",
            "  Downloading feather-0.1.2-py3-none-any.whl (8.0 MB)\n",
            "\u001b[K     |████████████████████████████████| 8.0 MB 4.4 MB/s \n",
            "\u001b[?25hRequirement already satisfied: python-slugify==5.0.2 in /usr/local/lib/python3.7/dist-packages (from feather) (5.0.2)\n",
            "Collecting flask-cors==3.0.10\n",
            "  Downloading Flask_Cors-3.0.10-py2.py3-none-any.whl (14 kB)\n",
            "Collecting flask-restful==0.3.9\n",
            "  Downloading Flask_RESTful-0.3.9-py2.py3-none-any.whl (25 kB)\n",
            "Collecting Pillow==8.2.0\n",
            "  Downloading Pillow-8.2.0-cp37-cp37m-manylinux1_x86_64.whl (3.0 MB)\n",
            "\u001b[K     |████████████████████████████████| 3.0 MB 63.6 MB/s \n",
            "\u001b[?25hCollecting requests==2.25.1\n",
            "  Downloading requests-2.25.1-py2.py3-none-any.whl (61 kB)\n",
            "\u001b[K     |████████████████████████████████| 61 kB 5.9 MB/s \n",
            "\u001b[?25hCollecting numpy==1.20.2\n",
            "  Downloading numpy-1.20.2-cp37-cp37m-manylinux2010_x86_64.whl (15.3 MB)\n",
            "\u001b[K     |████████████████████████████████| 15.3 MB 169 kB/s \n",
            "\u001b[?25hCollecting Flask==1.1.2\n",
            "  Downloading Flask-1.1.2-py2.py3-none-any.whl (94 kB)\n",
            "\u001b[K     |████████████████████████████████| 94 kB 2.9 MB/s \n",
            "\u001b[?25hRequirement already satisfied: itsdangerous>=0.24 in /usr/local/lib/python3.7/dist-packages (from Flask==1.1.2->feather) (1.1.0)\n",
            "Requirement already satisfied: Jinja2>=2.10.1 in /usr/local/lib/python3.7/dist-packages (from Flask==1.1.2->feather) (2.11.3)\n",
            "Requirement already satisfied: Werkzeug>=0.15 in /usr/local/lib/python3.7/dist-packages (from Flask==1.1.2->feather) (1.0.1)\n",
            "Requirement already satisfied: click>=5.1 in /usr/local/lib/python3.7/dist-packages (from Flask==1.1.2->feather) (7.1.2)\n",
            "Requirement already satisfied: Six in /usr/local/lib/python3.7/dist-packages (from flask-cors==3.0.10->feather) (1.15.0)\n",
            "Collecting aniso8601>=0.82\n",
            "  Downloading aniso8601-9.0.1-py2.py3-none-any.whl (52 kB)\n",
            "\u001b[K     |████████████████████████████████| 52 kB 1.3 MB/s \n",
            "\u001b[?25hRequirement already satisfied: pytz in /usr/local/lib/python3.7/dist-packages (from flask-restful==0.3.9->feather) (2018.9)\n",
            "Requirement already satisfied: text-unidecode>=1.3 in /usr/local/lib/python3.7/dist-packages (from python-slugify==5.0.2->feather) (1.3)\n",
            "Requirement already satisfied: chardet<5,>=3.0.2 in /usr/local/lib/python3.7/dist-packages (from requests==2.25.1->feather) (3.0.4)\n",
            "Requirement already satisfied: idna<3,>=2.5 in /usr/local/lib/python3.7/dist-packages (from requests==2.25.1->feather) (2.10)\n",
            "Requirement already satisfied: certifi>=2017.4.17 in /usr/local/lib/python3.7/dist-packages (from requests==2.25.1->feather) (2021.5.30)\n",
            "Requirement already satisfied: urllib3<1.27,>=1.21.1 in /usr/local/lib/python3.7/dist-packages (from requests==2.25.1->feather) (1.24.3)\n",
            "Requirement already satisfied: MarkupSafe>=0.23 in /usr/local/lib/python3.7/dist-packages (from Jinja2>=2.10.1->Flask==1.1.2->feather) (2.0.1)\n",
            "Installing collected packages: Flask, aniso8601, requests, Pillow, numpy, flask-restful, flask-cors, feather\n",
            "  Attempting uninstall: Flask\n",
            "    Found existing installation: Flask 1.1.4\n",
            "    Uninstalling Flask-1.1.4:\n",
            "      Successfully uninstalled Flask-1.1.4\n",
            "  Attempting uninstall: requests\n",
            "    Found existing installation: requests 2.23.0\n",
            "    Uninstalling requests-2.23.0:\n",
            "      Successfully uninstalled requests-2.23.0\n",
            "  Attempting uninstall: Pillow\n",
            "    Found existing installation: Pillow 7.1.2\n",
            "    Uninstalling Pillow-7.1.2:\n",
            "      Successfully uninstalled Pillow-7.1.2\n",
            "  Attempting uninstall: numpy\n",
            "    Found existing installation: numpy 1.19.5\n",
            "    Uninstalling numpy-1.19.5:\n",
            "      Successfully uninstalled numpy-1.19.5\n",
            "\u001b[31mERROR: pip's dependency resolver does not currently take into account all the packages that are installed. This behaviour is the source of the following dependency conflicts.\n",
            "tensorflow 2.6.0 requires numpy~=1.19.2, but you have numpy 1.20.2 which is incompatible.\n",
            "google-colab 1.0.0 requires requests~=2.23.0, but you have requests 2.25.1 which is incompatible.\n",
            "datascience 0.10.6 requires folium==0.2.1, but you have folium 0.8.3 which is incompatible.\n",
            "albumentations 0.1.12 requires imgaug<0.2.7,>=0.2.5, but you have imgaug 0.2.9 which is incompatible.\u001b[0m\n",
            "Successfully installed Flask-1.1.2 Pillow-8.2.0 aniso8601-9.0.1 feather-0.1.2 flask-cors-3.0.10 flask-restful-0.3.9 numpy-1.20.2 requests-2.25.1\n"
          ]
        },
        {
          "output_type": "display_data",
          "data": {
            "application/vnd.colab-display-data+json": {
              "pip_warning": {
                "packages": [
                  "PIL",
                  "feather",
                  "numpy",
                  "requests"
                ]
              }
            }
          },
          "metadata": {}
        }
      ]
    },
    {
      "cell_type": "code",
      "metadata": {
        "colab": {
          "base_uri": "https://localhost:8080/"
        },
        "id": "olE9a0_1p6fq",
        "outputId": "546a9bda-fdf1-44cc-b4e2-fdbfb377f7e2"
      },
      "source": [
        "pip install io\n"
      ],
      "execution_count": 54,
      "outputs": [
        {
          "output_type": "stream",
          "name": "stdout",
          "text": [
            "\u001b[31mERROR: Could not find a version that satisfies the requirement io (from versions: none)\u001b[0m\n",
            "\u001b[31mERROR: No matching distribution found for io\u001b[0m\n"
          ]
        }
      ]
    }
  ]
}