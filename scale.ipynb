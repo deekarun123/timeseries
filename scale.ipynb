{
  "nbformat": 4,
  "nbformat_minor": 0,
  "metadata": {
    "colab": {
      "name": "scale.ipynb",
      "provenance": []
    },
    "kernelspec": {
      "name": "python3",
      "display_name": "Python 3"
    },
    "language_info": {
      "name": "python"
    }
  },
  "cells": [
    {
      "cell_type": "code",
      "metadata": {
        "id": "hHGmhyr5cimm"
      },
      "source": [
        "import numpy as np\n",
        "import requests\n",
        "import zipfile \n",
        "from io import StringIO\n",
        "import pandas as pd\n",
        "import json\n",
        "import copy"
      ],
      "execution_count": 3,
      "outputs": []
    },
    {
      "cell_type": "code",
      "metadata": {
        "id": "j6XMSJYjcq5-"
      },
      "source": [
        "masterpath = 'http://faostat.fao.org/Portals/_Faostat/Downloads/zip_files/'\n",
        "#masterpath = 'http://food.csaladen.es/db/' #alternative mirror for entire FAO database\n",
        "localpath=True\n",
        "if localpath:\n",
        "    masterpath = 'E:/Skydrive/Documents/GitHub/Food-Energy/db/' #local path for downloaded FAO database, only for developer purposes\n",
        "indicators=[]\n",
        "indicators.append('CommodityBalances_Crops_E_All_Data') #0\n",
        "indicators.append('CommodityBalances_LivestockFish_E_All_Data') #1\n",
        "indicators.append('Emissions_Agriculture_Burning_crop_residues_E_All_Data') #2\n",
        "indicators.append('Emissions_Agriculture_Energy_E_All_Data') #3\n",
        "indicators.append('Emissions_Agriculture_Synthetic_Fertilizers_E_All_Data') #4\n",
        "indicators.append('Environment_Energy_E_All_Data') #5\n",
        "indicators.append('FoodBalanceSheets_E_All_Data') #6\n",
        "indicators.append('FoodSupply_Crops_E_All_Data') #7\n",
        "indicators.append('FoodSupply_LivestockFish_E_All_Data') #8\n",
        "indicators.append('Population_E_All_Data') #9\n",
        "indicators.append('Production_Crops_E_All_Data') #10\n",
        "indicators.append('Production_CropsProcessed_E_All_Data') #11\n",
        "indicators.append('Production_Livestock_E_All_Data') #12\n",
        "indicators.append('Production_LivestockPrimary_E_All_Data') #13\n",
        "indicators.append('Production_LivestockProcessed_E_All_Data') #14\n",
        "indicators.append('Resources_Fertilizers_E_All_Data') #15\n",
        "indicators.append('Resources_FertilizersArchive_E_All_Data') #16"
      ],
      "execution_count": 8,
      "outputs": []
    },
    {
      "cell_type": "code",
      "metadata": {
        "colab": {
          "base_uri": "https://localhost:8080/",
          "height": 417
        },
        "id": "lKQMtrIDt2N2",
        "outputId": "7bbb01aa-5e52-49bf-8563-805a2a61b983"
      },
      "source": [
        "import pandas as pd\n",
        "\n",
        "# read the file in\n",
        "pd.read_csv('http://eventdata.parusanalytics.com/cameo.dir/CAMEO.SCALE.txt',sep=':')"
      ],
      "execution_count": 10,
      "outputs": [
        {
          "output_type": "execute_result",
          "data": {
            "text/html": [
              "<div>\n",
              "<style scoped>\n",
              "    .dataframe tbody tr th:only-of-type {\n",
              "        vertical-align: middle;\n",
              "    }\n",
              "\n",
              "    .dataframe tbody tr th {\n",
              "        vertical-align: top;\n",
              "    }\n",
              "\n",
              "    .dataframe thead th {\n",
              "        text-align: right;\n",
              "    }\n",
              "</style>\n",
              "<table border=\"1\" class=\"dataframe\">\n",
              "  <thead>\n",
              "    <tr style=\"text-align: right;\">\n",
              "      <th></th>\n",
              "      <th>## CAMEO SCALE</th>\n",
              "      <th>VERSION 0.5B1 [07.03.21]</th>\n",
              "    </tr>\n",
              "  </thead>\n",
              "  <tbody>\n",
              "    <tr>\n",
              "      <th>0</th>\n",
              "      <td>## Philip Schrodt, schrodt@ku.edu</td>\n",
              "      <td>NaN</td>\n",
              "    </tr>\n",
              "    <tr>\n",
              "      <th>1</th>\n",
              "      <td>01</td>\n",
              "      <td>[0.0] MAKE PUBLIC STATEMENT</td>\n",
              "    </tr>\n",
              "    <tr>\n",
              "      <th>2</th>\n",
              "      <td>010</td>\n",
              "      <td>[0.0] Make statement, not specified below</td>\n",
              "    </tr>\n",
              "    <tr>\n",
              "      <th>3</th>\n",
              "      <td>011</td>\n",
              "      <td>[-0.1] Decline comment</td>\n",
              "    </tr>\n",
              "    <tr>\n",
              "      <th>4</th>\n",
              "      <td>012</td>\n",
              "      <td>[-0.4] Make pessimistic comment</td>\n",
              "    </tr>\n",
              "    <tr>\n",
              "      <th>...</th>\n",
              "      <td>...</td>\n",
              "      <td>...</td>\n",
              "    </tr>\n",
              "    <tr>\n",
              "      <th>272</th>\n",
              "      <td>202</td>\n",
              "      <td>[-10.0] Engage in mass killings</td>\n",
              "    </tr>\n",
              "    <tr>\n",
              "      <th>273</th>\n",
              "      <td>203</td>\n",
              "      <td>[-10.0] Engage in ethnic cleansing</td>\n",
              "    </tr>\n",
              "    <tr>\n",
              "      <th>274</th>\n",
              "      <td>204</td>\n",
              "      <td>[-10.0] Use weapons of mass destruction, not s...</td>\n",
              "    </tr>\n",
              "    <tr>\n",
              "      <th>275</th>\n",
              "      <td>2041</td>\n",
              "      <td>[-10.0] Use chemical, biological, or radiologi...</td>\n",
              "    </tr>\n",
              "    <tr>\n",
              "      <th>276</th>\n",
              "      <td>2042</td>\n",
              "      <td>[-10.0] Detonate nuclear weapons</td>\n",
              "    </tr>\n",
              "  </tbody>\n",
              "</table>\n",
              "<p>277 rows × 2 columns</p>\n",
              "</div>"
            ],
            "text/plain": [
              "                        ## CAMEO SCALE                           VERSION 0.5B1 [07.03.21]\n",
              "0    ## Philip Schrodt, schrodt@ku.edu                                                NaN\n",
              "1                                   01                        [0.0] MAKE PUBLIC STATEMENT\n",
              "2                                  010          [0.0] Make statement, not specified below\n",
              "3                                  011                             [-0.1] Decline comment\n",
              "4                                  012                    [-0.4] Make pessimistic comment\n",
              "..                                 ...                                                ...\n",
              "272                                202                    [-10.0] Engage in mass killings\n",
              "273                                203                 [-10.0] Engage in ethnic cleansing\n",
              "274                                204  [-10.0] Use weapons of mass destruction, not s...\n",
              "275                               2041  [-10.0] Use chemical, biological, or radiologi...\n",
              "276                               2042                   [-10.0] Detonate nuclear weapons\n",
              "\n",
              "[277 rows x 2 columns]"
            ]
          },
          "metadata": {},
          "execution_count": 10
        }
      ]
    },
    {
      "cell_type": "code",
      "metadata": {
        "colab": {
          "base_uri": "https://localhost:8080/",
          "height": 203
        },
        "id": "NnpGTt6Rt4UM",
        "outputId": "559d9acd-8174-47f1-b03b-3ed5dc40d118"
      },
      "source": [
        "scale.head()"
      ],
      "execution_count": 13,
      "outputs": [
        {
          "output_type": "execute_result",
          "data": {
            "text/html": [
              "<div>\n",
              "<style scoped>\n",
              "    .dataframe tbody tr th:only-of-type {\n",
              "        vertical-align: middle;\n",
              "    }\n",
              "\n",
              "    .dataframe tbody tr th {\n",
              "        vertical-align: top;\n",
              "    }\n",
              "\n",
              "    .dataframe thead th {\n",
              "        text-align: right;\n",
              "    }\n",
              "</style>\n",
              "<table border=\"1\" class=\"dataframe\">\n",
              "  <thead>\n",
              "    <tr style=\"text-align: right;\">\n",
              "      <th></th>\n",
              "      <th>cameoCode</th>\n",
              "      <th>Description</th>\n",
              "    </tr>\n",
              "  </thead>\n",
              "  <tbody>\n",
              "    <tr>\n",
              "      <th>0</th>\n",
              "      <td>01</td>\n",
              "      <td>[0.0] MAKE PUBLIC STATEMENT</td>\n",
              "    </tr>\n",
              "    <tr>\n",
              "      <th>1</th>\n",
              "      <td>010</td>\n",
              "      <td>[0.0] Make statement, not specified below</td>\n",
              "    </tr>\n",
              "    <tr>\n",
              "      <th>2</th>\n",
              "      <td>011</td>\n",
              "      <td>[-0.1] Decline comment</td>\n",
              "    </tr>\n",
              "    <tr>\n",
              "      <th>3</th>\n",
              "      <td>012</td>\n",
              "      <td>[-0.4] Make pessimistic comment</td>\n",
              "    </tr>\n",
              "    <tr>\n",
              "      <th>4</th>\n",
              "      <td>013</td>\n",
              "      <td>[0.4] Make optimistic comment</td>\n",
              "    </tr>\n",
              "  </tbody>\n",
              "</table>\n",
              "</div>"
            ],
            "text/plain": [
              "  cameoCode                                Description\n",
              "0        01                [0.0] MAKE PUBLIC STATEMENT\n",
              "1       010  [0.0] Make statement, not specified below\n",
              "2       011                     [-0.1] Decline comment\n",
              "3       012            [-0.4] Make pessimistic comment\n",
              "4       013              [0.4] Make optimistic comment"
            ]
          },
          "metadata": {},
          "execution_count": 13
        }
      ]
    },
    {
      "cell_type": "code",
      "metadata": {
        "colab": {
          "base_uri": "https://localhost:8080/",
          "height": 254
        },
        "id": "ZMs1zB3_uEFo",
        "outputId": "9933b2ae-ead0-4f6c-b38e-17a40fafd1ac"
      },
      "source": [
        "# to keep track of time\n",
        "import datetime\n",
        "\n",
        "start = datetime.datetime.now()\n",
        "\n",
        "# strip the Goldstein data scale to its own column\n",
        "scale['GoldsteinScale']=scale.Description.apply(\n",
        "                                            lambda x: pd.Series(x.split(']')[0].strip('[]'\n",
        "                                             ),\n",
        "                                            name='GoldsteinScale'))\n",
        "end = datetime.datetime.now() - start\n",
        "print('This operation took {0} microsecnds.\\n\\n'.format(end.microseconds))\n",
        "scale.head()"
      ],
      "execution_count": 14,
      "outputs": [
        {
          "output_type": "stream",
          "name": "stdout",
          "text": [
            "This operation took 75118 microsecnds.\n",
            "\n",
            "\n"
          ]
        },
        {
          "output_type": "execute_result",
          "data": {
            "text/html": [
              "<div>\n",
              "<style scoped>\n",
              "    .dataframe tbody tr th:only-of-type {\n",
              "        vertical-align: middle;\n",
              "    }\n",
              "\n",
              "    .dataframe tbody tr th {\n",
              "        vertical-align: top;\n",
              "    }\n",
              "\n",
              "    .dataframe thead th {\n",
              "        text-align: right;\n",
              "    }\n",
              "</style>\n",
              "<table border=\"1\" class=\"dataframe\">\n",
              "  <thead>\n",
              "    <tr style=\"text-align: right;\">\n",
              "      <th></th>\n",
              "      <th>cameoCode</th>\n",
              "      <th>Description</th>\n",
              "      <th>GoldsteinScale</th>\n",
              "    </tr>\n",
              "  </thead>\n",
              "  <tbody>\n",
              "    <tr>\n",
              "      <th>0</th>\n",
              "      <td>01</td>\n",
              "      <td>[0.0] MAKE PUBLIC STATEMENT</td>\n",
              "      <td>0.0</td>\n",
              "    </tr>\n",
              "    <tr>\n",
              "      <th>1</th>\n",
              "      <td>010</td>\n",
              "      <td>[0.0] Make statement, not specified below</td>\n",
              "      <td>0.0</td>\n",
              "    </tr>\n",
              "    <tr>\n",
              "      <th>2</th>\n",
              "      <td>011</td>\n",
              "      <td>[-0.1] Decline comment</td>\n",
              "      <td>-0.1</td>\n",
              "    </tr>\n",
              "    <tr>\n",
              "      <th>3</th>\n",
              "      <td>012</td>\n",
              "      <td>[-0.4] Make pessimistic comment</td>\n",
              "      <td>-0.4</td>\n",
              "    </tr>\n",
              "    <tr>\n",
              "      <th>4</th>\n",
              "      <td>013</td>\n",
              "      <td>[0.4] Make optimistic comment</td>\n",
              "      <td>0.4</td>\n",
              "    </tr>\n",
              "  </tbody>\n",
              "</table>\n",
              "</div>"
            ],
            "text/plain": [
              "  cameoCode                                Description GoldsteinScale\n",
              "0        01                [0.0] MAKE PUBLIC STATEMENT            0.0\n",
              "1       010  [0.0] Make statement, not specified below            0.0\n",
              "2       011                     [-0.1] Decline comment           -0.1\n",
              "3       012            [-0.4] Make pessimistic comment           -0.4\n",
              "4       013              [0.4] Make optimistic comment            0.4"
            ]
          },
          "metadata": {},
          "execution_count": 14
        }
      ]
    },
    {
      "cell_type": "code",
      "metadata": {
        "id": "WAt1MjE6uBbG"
      },
      "source": [
        "scale = pd.read_csv('http://eventdata.parusanalytics.com/cameo.dir/CAMEO.SCALE.txt',\n",
        "                    sep=':',\n",
        "                    header=None,\n",
        "                    dtype={'cameoCode':'str'},\n",
        "                    names=['cameoCode','Description'],\n",
        "                   skiprows=2)"
      ],
      "execution_count": 12,
      "outputs": []
    },
    {
      "cell_type": "code",
      "metadata": {
        "colab": {
          "base_uri": "https://localhost:8080/",
          "height": 254
        },
        "id": "nBDvjHFVuJtr",
        "outputId": "ad132c2b-22d0-41c6-d476-df5bdddc7200"
      },
      "source": [
        "start = datetime.datetime.now()\n",
        "\n",
        "# strip only description text\n",
        "scale['Description']=scale.Description.apply(\n",
        "                                        lambda x: pd.Series(x.split(']')[1],\n",
        "                                        name='cameoCodeDescription'))\n",
        "end = datetime.datetime.now() - start\n",
        "print('This operation took {0} microsecnds.\\n\\n'.format(end.microseconds))\n",
        "scale.head()"
      ],
      "execution_count": 15,
      "outputs": [
        {
          "output_type": "stream",
          "name": "stdout",
          "text": [
            "This operation took 70057 microsecnds.\n",
            "\n",
            "\n"
          ]
        },
        {
          "output_type": "execute_result",
          "data": {
            "text/html": [
              "<div>\n",
              "<style scoped>\n",
              "    .dataframe tbody tr th:only-of-type {\n",
              "        vertical-align: middle;\n",
              "    }\n",
              "\n",
              "    .dataframe tbody tr th {\n",
              "        vertical-align: top;\n",
              "    }\n",
              "\n",
              "    .dataframe thead th {\n",
              "        text-align: right;\n",
              "    }\n",
              "</style>\n",
              "<table border=\"1\" class=\"dataframe\">\n",
              "  <thead>\n",
              "    <tr style=\"text-align: right;\">\n",
              "      <th></th>\n",
              "      <th>cameoCode</th>\n",
              "      <th>Description</th>\n",
              "      <th>GoldsteinScale</th>\n",
              "    </tr>\n",
              "  </thead>\n",
              "  <tbody>\n",
              "    <tr>\n",
              "      <th>0</th>\n",
              "      <td>01</td>\n",
              "      <td>MAKE PUBLIC STATEMENT</td>\n",
              "      <td>0.0</td>\n",
              "    </tr>\n",
              "    <tr>\n",
              "      <th>1</th>\n",
              "      <td>010</td>\n",
              "      <td>Make statement, not specified below</td>\n",
              "      <td>0.0</td>\n",
              "    </tr>\n",
              "    <tr>\n",
              "      <th>2</th>\n",
              "      <td>011</td>\n",
              "      <td>Decline comment</td>\n",
              "      <td>-0.1</td>\n",
              "    </tr>\n",
              "    <tr>\n",
              "      <th>3</th>\n",
              "      <td>012</td>\n",
              "      <td>Make pessimistic comment</td>\n",
              "      <td>-0.4</td>\n",
              "    </tr>\n",
              "    <tr>\n",
              "      <th>4</th>\n",
              "      <td>013</td>\n",
              "      <td>Make optimistic comment</td>\n",
              "      <td>0.4</td>\n",
              "    </tr>\n",
              "  </tbody>\n",
              "</table>\n",
              "</div>"
            ],
            "text/plain": [
              "  cameoCode                           Description GoldsteinScale\n",
              "0        01                 MAKE PUBLIC STATEMENT            0.0\n",
              "1       010   Make statement, not specified below            0.0\n",
              "2       011                       Decline comment           -0.1\n",
              "3       012              Make pessimistic comment           -0.4\n",
              "4       013               Make optimistic comment            0.4"
            ]
          },
          "metadata": {},
          "execution_count": 15
        }
      ]
    },
    {
      "cell_type": "code",
      "metadata": {
        "colab": {
          "base_uri": "https://localhost:8080/",
          "height": 284
        },
        "id": "drVo-gicuOfW",
        "outputId": "4b9d8fd1-5b80-470b-df5f-44cbef5bff61"
      },
      "source": [
        "start = datetime.datetime.now()\n",
        "\n",
        "\n",
        "# strip whitespace from cameoCode column\n",
        "scale.cameoCode=scale.cameoCode.apply(lambda x: x.strip())\n",
        "\n",
        "# set the index to the cameoCode for json lookups\n",
        "scale.set_index(scale.cameoCode.values,inplace=True)\n",
        "\n",
        "# rename the index to cameoCode\n",
        "scale.index.rename('cameoCode',inplace=True)\n",
        "\n",
        "end = datetime.datetime.now() - start\n",
        "print('All of these operations took {0} microsecnds total.\\n\\n'.format(end.microseconds))\n",
        "scale.head()"
      ],
      "execution_count": 16,
      "outputs": [
        {
          "output_type": "stream",
          "name": "stdout",
          "text": [
            "All of these operations took 2084 microsecnds total.\n",
            "\n",
            "\n"
          ]
        },
        {
          "output_type": "execute_result",
          "data": {
            "text/html": [
              "<div>\n",
              "<style scoped>\n",
              "    .dataframe tbody tr th:only-of-type {\n",
              "        vertical-align: middle;\n",
              "    }\n",
              "\n",
              "    .dataframe tbody tr th {\n",
              "        vertical-align: top;\n",
              "    }\n",
              "\n",
              "    .dataframe thead th {\n",
              "        text-align: right;\n",
              "    }\n",
              "</style>\n",
              "<table border=\"1\" class=\"dataframe\">\n",
              "  <thead>\n",
              "    <tr style=\"text-align: right;\">\n",
              "      <th></th>\n",
              "      <th>cameoCode</th>\n",
              "      <th>Description</th>\n",
              "      <th>GoldsteinScale</th>\n",
              "    </tr>\n",
              "    <tr>\n",
              "      <th>cameoCode</th>\n",
              "      <th></th>\n",
              "      <th></th>\n",
              "      <th></th>\n",
              "    </tr>\n",
              "  </thead>\n",
              "  <tbody>\n",
              "    <tr>\n",
              "      <th>01</th>\n",
              "      <td>01</td>\n",
              "      <td>MAKE PUBLIC STATEMENT</td>\n",
              "      <td>0.0</td>\n",
              "    </tr>\n",
              "    <tr>\n",
              "      <th>010</th>\n",
              "      <td>010</td>\n",
              "      <td>Make statement, not specified below</td>\n",
              "      <td>0.0</td>\n",
              "    </tr>\n",
              "    <tr>\n",
              "      <th>011</th>\n",
              "      <td>011</td>\n",
              "      <td>Decline comment</td>\n",
              "      <td>-0.1</td>\n",
              "    </tr>\n",
              "    <tr>\n",
              "      <th>012</th>\n",
              "      <td>012</td>\n",
              "      <td>Make pessimistic comment</td>\n",
              "      <td>-0.4</td>\n",
              "    </tr>\n",
              "    <tr>\n",
              "      <th>013</th>\n",
              "      <td>013</td>\n",
              "      <td>Make optimistic comment</td>\n",
              "      <td>0.4</td>\n",
              "    </tr>\n",
              "  </tbody>\n",
              "</table>\n",
              "</div>"
            ],
            "text/plain": [
              "          cameoCode                           Description GoldsteinScale\n",
              "cameoCode                                                               \n",
              "01               01                 MAKE PUBLIC STATEMENT            0.0\n",
              "010             010   Make statement, not specified below            0.0\n",
              "011             011                       Decline comment           -0.1\n",
              "012             012              Make pessimistic comment           -0.4\n",
              "013             013               Make optimistic comment            0.4"
            ]
          },
          "metadata": {},
          "execution_count": 16
        }
      ]
    },
    {
      "cell_type": "code",
      "metadata": {
        "id": "Y9HuiryMuTaU"
      },
      "source": [
        ""
      ],
      "execution_count": null,
      "outputs": []
    }
  ]
}